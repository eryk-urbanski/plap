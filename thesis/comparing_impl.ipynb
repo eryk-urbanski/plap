{
 "cells": [
  {
   "cell_type": "code",
   "execution_count": 17,
   "metadata": {},
   "outputs": [],
   "source": [
    "import sys\n",
    "sys.path.append(\"..\")"
   ]
  },
  {
   "cell_type": "code",
   "execution_count": 18,
   "metadata": {},
   "outputs": [
    {
     "name": "stdout",
     "output_type": "stream",
     "text": [
      "INIT MPEG7: Unhandled case\n"
     ]
    },
    {
     "data": {
      "text/plain": [
       "((661500,), 22050)"
      ]
     },
     "execution_count": 18,
     "metadata": {},
     "output_type": "execute_result"
    }
   ],
   "source": [
    "import plap\n",
    "from plap.parameterization.parameterizer import Parameterizer\n",
    "\n",
    "preprocessor = plap.Preprocessor(window_type=\"hamming\")\n",
    "parameterizer = Parameterizer(audio_path=\"../tests/data/redhot.wav\", preprocessor=preprocessor)\n",
    "\n",
    "parameterizer.signal.shape, parameterizer.sample_rate"
   ]
  },
  {
   "cell_type": "markdown",
   "metadata": {},
   "source": [
    "# Parameterize Speech DB"
   ]
  },
  {
   "cell_type": "code",
   "execution_count": 23,
   "metadata": {},
   "outputs": [],
   "source": [
    "import os\n",
    "import numpy as np\n",
    "import plap\n",
    "\n",
    "# Define the paths to the subdirectories\n",
    "male_folder = './audios/Speech/Male'\n",
    "female_folder = './audios/Speech/Female'\n",
    "\n",
    "# Initialize a list to hold the file names\n",
    "all_files = []\n",
    "\n",
    "# Get the list of all files in the Male folder and collect filenames\n",
    "for file_name in os.listdir(male_folder):\n",
    "    file_path = os.path.join(male_folder, file_name)\n",
    "    if os.path.isfile(file_path):  # Check if it's a file\n",
    "        all_files.append(file_path)\n",
    "\n",
    "# Get the list of all files in the Female folder and collect filenames\n",
    "for file_name in os.listdir(female_folder):\n",
    "    file_path = os.path.join(female_folder, file_name)\n",
    "    if os.path.isfile(file_path):  # Check if it's a file\n",
    "        all_files.append(file_path)\n",
    "\n",
    "# Sort the list of files alphabetically\n",
    "all_files = sorted(all_files)\n",
    "\n",
    "# Display the collected file names\n",
    "# print('List of all files in Male and Female folders:')\n",
    "# for file in all_files:\n",
    "#     print(file)\n"
   ]
  },
  {
   "cell_type": "markdown",
   "metadata": {},
   "source": [
    "# Compare implementations"
   ]
  },
  {
   "cell_type": "code",
   "execution_count": 9,
   "metadata": {},
   "outputs": [],
   "source": [
    "import pandas as pd\n",
    "\n",
    "def csv_values_to_numpy(file_path) -> np.ndarray:\n",
    "    # Read the file and split values by commas\n",
    "    array = np.loadtxt(file_path, delimiter=',')\n",
    "    # Convert the data into a numpy array of floats\n",
    "    numpy_array = np.array(array, dtype=float)\n",
    "    return numpy_array\n",
    "\n",
    "def compare_two_arrays(array1: np.ndarray, array2: np.ndarray, features: list):\n",
    "    diff = np.abs(array1-array2)\n",
    "\n",
    "    # Calculate mean, min, max, and std for each feature and store them\n",
    "    mean_diffs = []\n",
    "    min_diffs = []\n",
    "    max_diffs = []\n",
    "    mse_diffs = []\n",
    "    offset = 0\n",
    "    for feature in features:\n",
    "        num_values = feature[1]\n",
    "        mean_diffs.append(np.mean(diff[:, offset:offset+num_values]))\n",
    "        min_diffs.append(np.min(diff[:, offset:offset+num_values]))\n",
    "        max_diffs.append(np.max(diff[:, offset:offset+num_values]))\n",
    "        mse_diffs.append(np.mean(diff[:, offset:offset+num_values]**2))\n",
    "        offset += num_values\n",
    "    \n",
    "    # Create a dictionary with the collected data\n",
    "    data = {\n",
    "        'Mean difference': mean_diffs,\n",
    "        'Min difference': min_diffs,\n",
    "        'Max difference': max_diffs,\n",
    "        'Mean Squared Error': mse_diffs,\n",
    "    }\n",
    "\n",
    "    # Create a DataFrame with the statistics\n",
    "    feature_names = [f[0] for f in features]\n",
    "    statistics_df = pd.DataFrame(data, index=feature_names).T\n",
    "    return statistics_df\n",
    "\n",
    "    # DIRECT COMPARISON FOR VERIFICATION\n",
    "    # combined = np.column_stack((array1, array2, diff))\n",
    "    # df = pd.DataFrame(combined)\n",
    "    # print(df)\n",
    "    # print(df.to_string())\n"
   ]
  },
  {
   "cell_type": "markdown",
   "metadata": {},
   "source": [
    "# Basic Spectral + Timbral"
   ]
  },
  {
   "cell_type": "code",
   "execution_count": null,
   "metadata": {},
   "outputs": [],
   "source": [
    "# Use plap for parameterization\n",
    "fvector = plap.FeatureVector(\"sc\",\"lat\",\"tc\",\"aff\",\"asc\",\"ass\",\"asf\",\"hsc\",\"hsd\",\"hss\",\"hsv\")\n",
    "\n",
    "# one_fifth_files = all_files[:len(all_files)//5]\n",
    "one_tenth_files = all_files[:len(all_files)//10]\n",
    "all_fvector = np.zeros((len(one_tenth_files), len(fvector.features)))\n",
    "all_fvector.shape\n",
    "\n",
    "i = 0\n",
    "for file in one_tenth_files:\n",
    "    print(f\"Processing file: {i+1}\")\n",
    "    plap.parameterize(\n",
    "        audio_path=file,\n",
    "        fvector=fvector,\n",
    "        preprocessor=preprocessor\n",
    "    )\n",
    "    all_fvector[i,:] = fvector.values\n",
    "    i += 1\n",
    "\n",
    "all_fvector\n",
    "\n",
    "output_file = './python_csv/basic_spectral_plus_timbral.csv'\n",
    "np.savetxt(output_file, all_fvector, delimiter=',')"
   ]
  },
  {
   "cell_type": "code",
   "execution_count": 21,
   "metadata": {},
   "outputs": [
    {
     "data": {
      "text/plain": [
       "((27, 11), (27, 11))"
      ]
     },
     "execution_count": 21,
     "metadata": {},
     "output_type": "execute_result"
    }
   ],
   "source": [
    "matlab_fv_path = './matlab_csv/basic_spectral_plus_timbral.csv'\n",
    "matlab_feature_vector = csv_values_to_numpy(matlab_fv_path)\n",
    "matlab_feature_vector = matlab_feature_vector[:27]\n",
    "\n",
    "# all_timbral_spectral_python = all_fvector\n",
    "all_timbral_spectral_python = csv_values_to_numpy(\"./python_csv/basic_spectral_plus_timbral.csv\")\n",
    "matlab_feature_vector.shape, all_timbral_spectral_python.shape"
   ]
  },
  {
   "cell_type": "code",
   "execution_count": 22,
   "metadata": {},
   "outputs": [
    {
     "data": {
      "text/html": [
       "<div>\n",
       "<style scoped>\n",
       "    .dataframe tbody tr th:only-of-type {\n",
       "        vertical-align: middle;\n",
       "    }\n",
       "\n",
       "    .dataframe tbody tr th {\n",
       "        vertical-align: top;\n",
       "    }\n",
       "\n",
       "    .dataframe thead th {\n",
       "        text-align: right;\n",
       "    }\n",
       "</style>\n",
       "<table border=\"1\" class=\"dataframe\">\n",
       "  <thead>\n",
       "    <tr style=\"text-align: right;\">\n",
       "      <th></th>\n",
       "      <th>sc</th>\n",
       "      <th>lat</th>\n",
       "      <th>tc</th>\n",
       "      <th>aff</th>\n",
       "      <th>asc</th>\n",
       "      <th>ass</th>\n",
       "      <th>asf</th>\n",
       "      <th>hsc</th>\n",
       "      <th>hsd</th>\n",
       "      <th>hss</th>\n",
       "      <th>hsv</th>\n",
       "    </tr>\n",
       "  </thead>\n",
       "  <tbody>\n",
       "    <tr>\n",
       "      <th>Mean difference</th>\n",
       "      <td>1.114863e+03</td>\n",
       "      <td>2.739845e-01</td>\n",
       "      <td>0.049222</td>\n",
       "      <td>32.569818</td>\n",
       "      <td>0.877171</td>\n",
       "      <td>0.059700</td>\n",
       "      <td>0.414025</td>\n",
       "      <td>1.158170e+03</td>\n",
       "      <td>0.012853</td>\n",
       "      <td>0.040122</td>\n",
       "      <td>0.046265</td>\n",
       "    </tr>\n",
       "    <tr>\n",
       "      <th>Min difference</th>\n",
       "      <td>5.796846e+02</td>\n",
       "      <td>3.885781e-16</td>\n",
       "      <td>0.002275</td>\n",
       "      <td>2.960468</td>\n",
       "      <td>0.666873</td>\n",
       "      <td>0.002969</td>\n",
       "      <td>0.359621</td>\n",
       "      <td>8.216762e+02</td>\n",
       "      <td>0.000456</td>\n",
       "      <td>0.000257</td>\n",
       "      <td>0.002605</td>\n",
       "    </tr>\n",
       "    <tr>\n",
       "      <th>Max difference</th>\n",
       "      <td>1.552563e+03</td>\n",
       "      <td>1.480764e+00</td>\n",
       "      <td>0.115678</td>\n",
       "      <td>119.155782</td>\n",
       "      <td>1.462979</td>\n",
       "      <td>0.198913</td>\n",
       "      <td>0.497601</td>\n",
       "      <td>1.607814e+03</td>\n",
       "      <td>0.038909</td>\n",
       "      <td>0.155493</td>\n",
       "      <td>0.087057</td>\n",
       "    </tr>\n",
       "    <tr>\n",
       "      <th>Mean Squared Error</th>\n",
       "      <td>1.299923e+06</td>\n",
       "      <td>2.321671e-01</td>\n",
       "      <td>0.003468</td>\n",
       "      <td>2123.359250</td>\n",
       "      <td>0.793616</td>\n",
       "      <td>0.005646</td>\n",
       "      <td>0.172354</td>\n",
       "      <td>1.374247e+06</td>\n",
       "      <td>0.000240</td>\n",
       "      <td>0.002850</td>\n",
       "      <td>0.002648</td>\n",
       "    </tr>\n",
       "  </tbody>\n",
       "</table>\n",
       "</div>"
      ],
      "text/plain": [
       "                              sc           lat        tc          aff  \\\n",
       "Mean difference     1.114863e+03  2.739845e-01  0.049222    32.569818   \n",
       "Min difference      5.796846e+02  3.885781e-16  0.002275     2.960468   \n",
       "Max difference      1.552563e+03  1.480764e+00  0.115678   119.155782   \n",
       "Mean Squared Error  1.299923e+06  2.321671e-01  0.003468  2123.359250   \n",
       "\n",
       "                         asc       ass       asf           hsc       hsd  \\\n",
       "Mean difference     0.877171  0.059700  0.414025  1.158170e+03  0.012853   \n",
       "Min difference      0.666873  0.002969  0.359621  8.216762e+02  0.000456   \n",
       "Max difference      1.462979  0.198913  0.497601  1.607814e+03  0.038909   \n",
       "Mean Squared Error  0.793616  0.005646  0.172354  1.374247e+06  0.000240   \n",
       "\n",
       "                         hss       hsv  \n",
       "Mean difference     0.040122  0.046265  \n",
       "Min difference      0.000257  0.002605  \n",
       "Max difference      0.155493  0.087057  \n",
       "Mean Squared Error  0.002850  0.002648  "
      ]
     },
     "execution_count": 22,
     "metadata": {},
     "output_type": "execute_result"
    }
   ],
   "source": [
    "features_list = [('sc', 1), ('lat', 1), ('tc', 1), ('aff', 1), ('asc', 1), ('ass', 1), ('asf', 1), ('hsc', 1), ('hsd', 1), ('hss', 1), ('hsv', 1)]\n",
    "stats = compare_two_arrays(matlab_feature_vector, all_timbral_spectral_python, features_list)\n",
    "stats"
   ]
  },
  {
   "cell_type": "code",
   "execution_count": null,
   "metadata": {},
   "outputs": [
    {
     "name": "stdout",
     "output_type": "stream",
     "text": [
      "percentile sc: \n",
      "percentile lat: \n",
      "percentile tc: \n",
      "percentile aff: \n",
      "percentile asc: \n",
      "percentile ass: \n",
      "percentile asf: \n",
      "percentile hsc: \n",
      "percentile hsd: \n",
      "percentile hss: \n",
      "percentile hsv: \n"
     ]
    }
   ],
   "source": [
    "# mean_sc_val = np.mean(all_timbral_spectral_python[:,0])\n",
    "# mean_hsc_val = np.mean(all_timbral_spectral_python[:,1])\n",
    "# mean_hsd_val = np.mean(all_timbral_spectral_python[:,2])\n",
    "# mean_hss_val = np.mean(all_timbral_spectral_python[:,3])\n",
    "# mean_hsv_val = np.mean(all_timbral_spectral_python[:,4])\n",
    "# mean_hsc_val\n",
    "\n",
    "for i in range(all_timbral_spectral_python.shape[1]):\n",
    "    print(f\"mean diff % of mean val of {features_list[i][0]}: {stats.iat[0,i] * 100 / np.mean(all_timbral_spectral_python[:,i])}\")"
   ]
  },
  {
   "cell_type": "code",
   "execution_count": null,
   "metadata": {},
   "outputs": [],
   "source": [
    "percentile_sc = stats.iat[0,0] * 100 / mean_sc_val\n",
    "percentile_hsc = stats.iat[0,1] * 100 / mean_hsc_val\n",
    "percentile_hsd = stats.iat[0,2] * 100 / mean_hsd_val\n",
    "percentile_hss = stats.iat[0,3] * 100 / mean_hss_val\n",
    "percentile_hsv = stats.iat[0,4] * 100 / mean_hsv_val\n",
    "[percentile_sc, percentile_hsc, percentile_hsd, percentile_hss, percentile_hsv]"
   ]
  }
 ],
 "metadata": {
  "kernelspec": {
   "display_name": "Python 3",
   "language": "python",
   "name": "python3"
  },
  "language_info": {
   "codemirror_mode": {
    "name": "ipython",
    "version": 3
   },
   "file_extension": ".py",
   "mimetype": "text/x-python",
   "name": "python",
   "nbconvert_exporter": "python",
   "pygments_lexer": "ipython3",
   "version": "3.11.9"
  }
 },
 "nbformat": 4,
 "nbformat_minor": 2
}
