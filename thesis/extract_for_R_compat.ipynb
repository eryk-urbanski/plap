{
 "cells": [
  {
   "cell_type": "markdown",
   "metadata": {},
   "source": [
    "# Prepare database"
   ]
  },
  {
   "cell_type": "code",
   "execution_count": 5,
   "metadata": {},
   "outputs": [
    {
     "data": {
      "text/plain": [
       "1440"
      ]
     },
     "execution_count": 5,
     "metadata": {},
     "output_type": "execute_result"
    }
   ],
   "source": [
    "import os\n",
    "\n",
    "dir_name = 'C:/Users/ErykUrbański/Documents/ravdess-dataset/audio_speech_actors_01-24'\n",
    "\n",
    "# Initialize a list to hold the file names\n",
    "all_files = []\n",
    "\n",
    "# Traverse all subfolders and files using os.walk()\n",
    "for root, _, file_names in os.walk(dir_name):\n",
    "    for file_name in file_names:\n",
    "        file_path = os.path.join(root, file_name)\n",
    "        if os.path.isfile(file_path):  # Check if it's a file\n",
    "            all_files.append(file_path)\n",
    "\n",
    "all_files = sorted(all_files)\n",
    "\n",
    "# Display the collected file names\n",
    "# print('List of all files in the folders:')\n",
    "# for file in all_files:\n",
    "#     print(file)\n",
    "\n",
    "# Emotions in the RAVDESS dataset\n",
    "emotions = {\n",
    "  '01':'neutral',\n",
    "  '02':'calm',\n",
    "  '03':'happy',\n",
    "  '04':'sad',\n",
    "  '05':'angry',\n",
    "  '06':'fearful',\n",
    "  '07':'disgust',\n",
    "  '08':'surprised'\n",
    "}\n",
    "\n",
    "# desired csv columns:\n",
    "# label/name(actor number, take, etc) emotion(class) feature1 feature2...\n",
    "# or class at the end?\n",
    "len(all_files)"
   ]
  },
  {
   "cell_type": "code",
   "execution_count": 6,
   "metadata": {},
   "outputs": [],
   "source": [
    "import numpy as np\n",
    "\n",
    "import sys\n",
    "sys.path.append(\"..\")\n",
    "import plap\n",
    "\n",
    "# Use plap for parameterization\n",
    "fvector = plap.FeatureVector(\"asc\",\"ass\",\"asf\",\"lat\",\"tc\",\"sc\",\"hsc\",\"hsd\",\"hss\",\"hsv\")\n",
    "preprocessor = plap.Preprocessor(window_type=\"hamming\")\n",
    "\n",
    "def extract_features(audio_path):\n",
    "    plap.parameterize(audio_path=audio_path, fvector=fvector, preprocessor=preprocessor)\n",
    "    return fvector.values"
   ]
  },
  {
   "cell_type": "code",
   "execution_count": null,
   "metadata": {},
   "outputs": [],
   "source": [
    "import csv\n",
    "\n",
    "# Define the CSV filename\n",
    "csv_filename = './python_csv/ravdess_basspectr_timbral.csv'\n",
    "\n",
    "# Initialize the CSV file with headers\n",
    "headers = ['label', 'class'] + [f'{feature.upper()}' for feature in fvector.features]\n",
    "with open(csv_filename, mode='w', newline='') as file:\n",
    "    writer = csv.writer(file)\n",
    "    writer.writerow(headers)"
   ]
  },
  {
   "cell_type": "code",
   "execution_count": null,
   "metadata": {},
   "outputs": [
    {
     "name": "stdout",
     "output_type": "stream",
     "text": [
      "Processing file 03-01-02-01-01-02-01.wav\n"
     ]
    },
    {
     "name": "stderr",
     "output_type": "stream",
     "text": [
      "c:\\Users\\ErykUrbański\\Desktop\\PG\\plap\\venv\\Lib\\site-packages\\librosa\\core\\spectrum.py:266: UserWarning: n_fft=1024 is too large for input signal of length=2\n",
      "  warnings.warn(\n"
     ]
    },
    {
     "name": "stdout",
     "output_type": "stream",
     "text": [
      "Omitting file0\n",
      "Processing file 03-01-02-01-02-01-01.wav\n"
     ]
    },
    {
     "name": "stderr",
     "output_type": "stream",
     "text": [
      "c:\\Users\\ErykUrbański\\Desktop\\PG\\plap\\thesis\\..\\plap\\parameterization\\mpeg7.py:140: RuntimeWarning: invalid value encountered in scalar divide\n",
      "  phi[k - Kl] = num / temp\n"
     ]
    },
    {
     "name": "stdout",
     "output_type": "stream",
     "text": [
      "Finished file1 in 3.266545057296753 s\n",
      "Processing file 03-01-02-01-02-02-01.wav\n",
      "Finished file2 in 3.2300219535827637 s\n",
      "Processing file 03-01-02-02-01-01-01.wav\n",
      "Finished file3 in 3.1953670978546143 s\n",
      "Processing file 03-01-02-02-01-02-01.wav\n",
      "Finished file4 in 3.7438580989837646 s\n",
      "Processing file 03-01-02-02-02-01-01.wav\n",
      "Finished file5 in 4.116748094558716 s\n",
      "Processing file 03-01-02-02-02-02-01.wav\n",
      "Finished file6 in 3.68279767036438 s\n",
      "Processing file 03-01-03-01-01-01-01.wav\n",
      "Omitting file7\n",
      "Processing file 03-01-03-01-01-02-01.wav\n",
      "Finished file8 in 3.3474910259246826 s\n",
      "Processing file 03-01-03-01-02-01-01.wav\n",
      "Finished file9 in 3.202807903289795 s\n",
      "Processing file 03-01-03-01-02-02-01.wav\n",
      "Finished file10 in 3.633155345916748 s\n",
      "Processing file 03-01-03-02-01-01-01.wav\n",
      "Finished file11 in 3.3801498413085938 s\n",
      "Processing file 03-01-03-02-01-02-01.wav\n"
     ]
    }
   ],
   "source": [
    "import time\n",
    "# Iterate over each audio file\n",
    "initial_i = 0\n",
    "i = initial_i\n",
    "processed = 0\n",
    "for filename in all_files[initial_i:]:\n",
    "    if filename.endswith('.wav'):  # Ensure only audio files are processed\n",
    "        \n",
    "        start_time = time.time()\n",
    "        # Extract label and class from the filename (customize this logic as needed)\n",
    "        audio_filename = filename.split('\\\\')[-1]\n",
    "        label = audio_filename.removesuffix('.wav')  # Use filename as label\n",
    "        class_num = audio_filename.split('-')[2]\n",
    "        class_name = emotions[class_num]\n",
    "        \n",
    "        print(f'Processing file {audio_filename}')\n",
    "\n",
    "        # Extract 11 features from the audio file\n",
    "        try:\n",
    "            features = extract_features(filename)\n",
    "            processed += 1\n",
    "        except:\n",
    "            print(f'Omitting file{i}')\n",
    "            i += 1\n",
    "            continue\n",
    "        # features = np.zeros(11)\n",
    "\n",
    "        # Prepare the row to be added to the CSV\n",
    "        row = [label, class_name] + list(features)\n",
    "\n",
    "        # Append the new row to the CSV file\n",
    "        with open(csv_filename, mode='a', newline='') as file:\n",
    "            writer = csv.writer(file)\n",
    "            writer.writerow(row)\n",
    "        print(f'Finished file{i} in {time.time() - start_time} s')\n",
    "        i += 1\n",
    "\n",
    "print(\"Feature extraction and CSV writing completed.\")"
   ]
  }
 ],
 "metadata": {
  "kernelspec": {
   "display_name": "venv",
   "language": "python",
   "name": "python3"
  },
  "language_info": {
   "codemirror_mode": {
    "name": "ipython",
    "version": 3
   },
   "file_extension": ".py",
   "mimetype": "text/x-python",
   "name": "python",
   "nbconvert_exporter": "python",
   "pygments_lexer": "ipython3",
   "version": "3.12.7"
  }
 },
 "nbformat": 4,
 "nbformat_minor": 2
}
