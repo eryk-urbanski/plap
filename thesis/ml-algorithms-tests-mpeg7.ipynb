{
 "cells": [
  {
   "cell_type": "code",
   "execution_count": 1,
   "metadata": {},
   "outputs": [
    {
     "data": {
      "text/html": [
       "<div>\n",
       "<style scoped>\n",
       "    .dataframe tbody tr th:only-of-type {\n",
       "        vertical-align: middle;\n",
       "    }\n",
       "\n",
       "    .dataframe tbody tr th {\n",
       "        vertical-align: top;\n",
       "    }\n",
       "\n",
       "    .dataframe thead th {\n",
       "        text-align: right;\n",
       "    }\n",
       "</style>\n",
       "<table border=\"1\" class=\"dataframe\">\n",
       "  <thead>\n",
       "    <tr style=\"text-align: right;\">\n",
       "      <th></th>\n",
       "      <th>label</th>\n",
       "      <th>class</th>\n",
       "      <th>ASC</th>\n",
       "      <th>ASS</th>\n",
       "      <th>ASF</th>\n",
       "      <th>LAT</th>\n",
       "      <th>TC</th>\n",
       "      <th>SC</th>\n",
       "      <th>HSC</th>\n",
       "      <th>HSD</th>\n",
       "      <th>HSS</th>\n",
       "      <th>HSV</th>\n",
       "    </tr>\n",
       "  </thead>\n",
       "  <tbody>\n",
       "    <tr>\n",
       "      <th>0</th>\n",
       "      <td>03-01-01-01-01-01-01</td>\n",
       "      <td>neutral</td>\n",
       "      <td>0.326844</td>\n",
       "      <td>1.921181</td>\n",
       "      <td>0.312615</td>\n",
       "      <td>-0.556346</td>\n",
       "      <td>1.578731</td>\n",
       "      <td>6974.496812</td>\n",
       "      <td>2619.138535</td>\n",
       "      <td>0.197505</td>\n",
       "      <td>0.842380</td>\n",
       "      <td>0.074087</td>\n",
       "    </tr>\n",
       "    <tr>\n",
       "      <th>1</th>\n",
       "      <td>03-01-01-01-01-02-01</td>\n",
       "      <td>neutral</td>\n",
       "      <td>0.046790</td>\n",
       "      <td>2.017717</td>\n",
       "      <td>0.268841</td>\n",
       "      <td>-0.572473</td>\n",
       "      <td>1.592446</td>\n",
       "      <td>6973.020862</td>\n",
       "      <td>2894.047724</td>\n",
       "      <td>0.189728</td>\n",
       "      <td>0.859455</td>\n",
       "      <td>0.084299</td>\n",
       "    </tr>\n",
       "    <tr>\n",
       "      <th>2</th>\n",
       "      <td>03-01-01-01-02-01-01</td>\n",
       "      <td>neutral</td>\n",
       "      <td>0.092315</td>\n",
       "      <td>2.008383</td>\n",
       "      <td>0.280217</td>\n",
       "      <td>-0.808794</td>\n",
       "      <td>1.527533</td>\n",
       "      <td>7016.023531</td>\n",
       "      <td>3141.525852</td>\n",
       "      <td>0.201903</td>\n",
       "      <td>0.832002</td>\n",
       "      <td>0.129106</td>\n",
       "    </tr>\n",
       "    <tr>\n",
       "      <th>3</th>\n",
       "      <td>03-01-01-01-02-02-01</td>\n",
       "      <td>neutral</td>\n",
       "      <td>-0.135940</td>\n",
       "      <td>2.048527</td>\n",
       "      <td>0.239789</td>\n",
       "      <td>-0.835090</td>\n",
       "      <td>1.473981</td>\n",
       "      <td>6826.133575</td>\n",
       "      <td>3334.957798</td>\n",
       "      <td>0.184985</td>\n",
       "      <td>0.830947</td>\n",
       "      <td>0.098327</td>\n",
       "    </tr>\n",
       "    <tr>\n",
       "      <th>4</th>\n",
       "      <td>03-01-02-01-01-01-01</td>\n",
       "      <td>calm</td>\n",
       "      <td>0.129211</td>\n",
       "      <td>1.862701</td>\n",
       "      <td>0.290359</td>\n",
       "      <td>-0.782845</td>\n",
       "      <td>1.733736</td>\n",
       "      <td>6614.486816</td>\n",
       "      <td>3201.192700</td>\n",
       "      <td>0.187025</td>\n",
       "      <td>0.868279</td>\n",
       "      <td>0.136652</td>\n",
       "    </tr>\n",
       "  </tbody>\n",
       "</table>\n",
       "</div>"
      ],
      "text/plain": [
       "                  label    class       ASC       ASS       ASF       LAT  \\\n",
       "0  03-01-01-01-01-01-01  neutral  0.326844  1.921181  0.312615 -0.556346   \n",
       "1  03-01-01-01-01-02-01  neutral  0.046790  2.017717  0.268841 -0.572473   \n",
       "2  03-01-01-01-02-01-01  neutral  0.092315  2.008383  0.280217 -0.808794   \n",
       "3  03-01-01-01-02-02-01  neutral -0.135940  2.048527  0.239789 -0.835090   \n",
       "4  03-01-02-01-01-01-01     calm  0.129211  1.862701  0.290359 -0.782845   \n",
       "\n",
       "         TC           SC          HSC       HSD       HSS       HSV  \n",
       "0  1.578731  6974.496812  2619.138535  0.197505  0.842380  0.074087  \n",
       "1  1.592446  6973.020862  2894.047724  0.189728  0.859455  0.084299  \n",
       "2  1.527533  7016.023531  3141.525852  0.201903  0.832002  0.129106  \n",
       "3  1.473981  6826.133575  3334.957798  0.184985  0.830947  0.098327  \n",
       "4  1.733736  6614.486816  3201.192700  0.187025  0.868279  0.136652  "
      ]
     },
     "execution_count": 1,
     "metadata": {},
     "output_type": "execute_result"
    }
   ],
   "source": [
    "import numpy as np\n",
    "from sklearn.preprocessing import StandardScaler\n",
    "import pandas as pd\n",
    "\n",
    "def csv_values_to_numpy(file_path) -> np.ndarray:\n",
    "    # Read the file and split values by commas\n",
    "    array = np.loadtxt(file_path, delimiter=',')\n",
    "    # Convert the data into a numpy array of floats\n",
    "    numpy_array = np.array(array, dtype=float)\n",
    "    return numpy_array\n",
    "\n",
    "# Emotions in the RAVDESS dataset\n",
    "emotions = {\n",
    "  '01':'neutral',\n",
    "  '02':'calm',\n",
    "  '03':'happy',\n",
    "  '04':'sad',\n",
    "  '05':'angry',\n",
    "  '06':'fearful',\n",
    "  '07':'disgust',\n",
    "  '08':'surprised'\n",
    "}\n",
    "\n",
    "# all_timbral_spectral_python = all_fvector\n",
    "dataset = pd.read_csv(\"./python_csv/ravdess_basspectr_timbral_no_preemphasis.csv\")\n",
    "dataset.head(5)"
   ]
  },
  {
   "cell_type": "code",
   "execution_count": 2,
   "metadata": {},
   "outputs": [
    {
     "name": "stdout",
     "output_type": "stream",
     "text": [
      "\n",
      "Some MPEG-7 features:    min = -3.064,    max = 7135.559,    mean = 825.156,    deviation = 1760.913\n"
     ]
    }
   ],
   "source": [
    "# We would usually use df.describe(), but it provides a bit of a mess of information we don't need at the moment.\n",
    "def print_features(df):\n",
    "    # Check MFCC feature values\n",
    "    features_df = df.iloc[:,2:]\n",
    "    # print(features_df.shape)\n",
    "    # print(features_df.head(5))\n",
    "    feature_min = features_df.min().min()\n",
    "    feature_max = features_df.max().max()\n",
    "    # stack all features into a single series so we don't get a mean of means or stdev of stdevs\n",
    "    feature_mean = features_df.stack().mean()\n",
    "    feature_stdev = features_df.stack().std()\n",
    "    print(f'\\nSome MPEG-7 features:\\\n",
    "    min = {feature_min:.3f},\\\n",
    "    max = {feature_max:.3f},\\\n",
    "    mean = {feature_mean:.3f},\\\n",
    "    deviation = {feature_stdev:.3f}')\n",
    "print_features(dataset)"
   ]
  },
  {
   "cell_type": "code",
   "execution_count": 3,
   "metadata": {},
   "outputs": [],
   "source": [
    "from sklearn.model_selection import train_test_split\n",
    "from sklearn.neighbors import KNeighborsClassifier\n",
    "from sklearn.svm import SVC\n",
    "from sklearn.tree import DecisionTreeClassifier\n",
    "from sklearn.ensemble import RandomForestClassifier, AdaBoostClassifier\n",
    "from sklearn.naive_bayes import GaussianNB\n",
    "from sklearn.discriminant_analysis import QuadraticDiscriminantAnalysis\n",
    "\n",
    "def train_models(dataset_subset):\n",
    "\n",
    "    scaler = StandardScaler() # Gaussian with zero mean and unit variance.\n",
    "    # keep our unscaled features just in case we need to process them alternatively\n",
    "    features = dataset_subset.iloc[:,2:]\n",
    "    features_scaled = features\n",
    "    features_scaled = scaler.fit_transform(features_scaled)\n",
    "\n",
    "    print('\\033[1m'+'Standard Scaling:\\n'+'\\033[0m')\n",
    "    features_scaled_df = pd.DataFrame(features_scaled)\n",
    "    print_features(features_scaled_df)\n",
    "\n",
    "    dataset_emotions = dataset_subset.iloc[:,1]\n",
    "\n",
    "    X_train_scaled, X_test_scaled, y_train, y_test = train_test_split(\n",
    "        features_scaled,\n",
    "        dataset_emotions,\n",
    "        test_size=0.2, \n",
    "        random_state=69\n",
    "    )\n",
    "\n",
    "    classification_models = [\n",
    "        KNeighborsClassifier(\n",
    "            n_neighbors = 5,\n",
    "            weights = 'distance',\n",
    "            algorithm = 'brute',\n",
    "            leaf_size = 30,\n",
    "            n_jobs=4\n",
    "        ),\n",
    "        SVC(kernel='linear'),\n",
    "        SVC(\n",
    "            C=10,\n",
    "            gamma='auto',\n",
    "            kernel='rbf',\n",
    "            random_state=69\n",
    "        ),\n",
    "        DecisionTreeClassifier(),\n",
    "        RandomForestClassifier(),\n",
    "        AdaBoostClassifier(),\n",
    "        GaussianNB(),\n",
    "        QuadraticDiscriminantAnalysis(),\n",
    "        ]\n",
    "\n",
    "    scores = []\n",
    "    for model in classification_models:\n",
    "        model.fit(X_train_scaled, y_train)\n",
    "        score_train = model.score(X_train_scaled, y_train)\n",
    "        score = model.score(X_test_scaled, y_test)\n",
    "        model_name = type(model).__name__\n",
    "        if model_name=='SVC' and model.kernel=='rbf': model_name+=' RBF kernel'\n",
    "        scores.append((model_name, (f'{100*score_train:.2f}%'), (f'{100*score:.2f}%')))\n",
    "    # Make it pretty\n",
    "    scores_df = pd.DataFrame(scores,columns=['Classifier','Train Accuracy Score', 'Test Accuracy Score'])\n",
    "    \n",
    "    print(scores_df.sort_values(by='Test Accuracy Score',axis=0,ascending=False))"
   ]
  },
  {
   "cell_type": "code",
   "execution_count": 4,
   "metadata": {},
   "outputs": [
    {
     "name": "stdout",
     "output_type": "stream",
     "text": [
      "\u001b[1mStandard Scaling:\n",
      "\u001b[0m\n",
      "\n",
      "Some MPEG-7 features:    min = -1.369,    max = 2.964,    mean = 0.000,    deviation = 1.001\n",
      "                      Classifier Train Accuracy Score Test Accuracy Score\n",
      "2                 SVC RBF kernel               32.47%              26.90%\n",
      "3         DecisionTreeClassifier              100.00%              21.38%\n",
      "4         RandomForestClassifier              100.00%              20.69%\n",
      "5             AdaBoostClassifier               27.95%              19.31%\n",
      "7  QuadraticDiscriminantAnalysis               22.22%              18.62%\n",
      "0           KNeighborsClassifier              100.00%              17.93%\n",
      "1                            SVC               19.44%              16.55%\n",
      "6                     GaussianNB               19.10%              15.17%\n"
     ]
    },
    {
     "name": "stderr",
     "output_type": "stream",
     "text": [
      "C:\\Users\\windo\\AppData\\Local\\Packages\\PythonSoftwareFoundation.Python.3.11_qbz5n2kfra8p0\\LocalCache\\local-packages\\Python311\\site-packages\\sklearn\\ensemble\\_weight_boosting.py:519: FutureWarning: The SAMME.R algorithm (the default) is deprecated and will be removed in 1.6. Use the SAMME algorithm to circumvent this warning.\n",
      "  warnings.warn(\n"
     ]
    }
   ],
   "source": [
    "# Just Basic Spectral\n",
    "train_models(dataset.iloc[:,:5])"
   ]
  },
  {
   "cell_type": "code",
   "execution_count": 7,
   "metadata": {},
   "outputs": [
    {
     "name": "stdout",
     "output_type": "stream",
     "text": [
      "\u001b[1mStandard Scaling:\n",
      "\u001b[0m\n",
      "\n",
      "Some MPEG-7 features:    min = -3.586,    max = 4.537,    mean = -0.000,    deviation = 1.000\n",
      "                      Classifier Train Accuracy Score Test Accuracy Score\n",
      "7  QuadraticDiscriminantAnalysis               35.24%              30.34%\n",
      "1                            SVC               30.38%              28.97%\n",
      "4         RandomForestClassifier              100.00%              28.28%\n",
      "2                 SVC RBF kernel               57.64%              26.90%\n",
      "6                     GaussianNB               29.17%              24.14%\n",
      "0           KNeighborsClassifier              100.00%              22.07%\n",
      "3         DecisionTreeClassifier              100.00%              21.38%\n",
      "5             AdaBoostClassifier               26.91%              13.10%\n"
     ]
    },
    {
     "name": "stderr",
     "output_type": "stream",
     "text": [
      "C:\\Users\\windo\\AppData\\Local\\Packages\\PythonSoftwareFoundation.Python.3.11_qbz5n2kfra8p0\\LocalCache\\local-packages\\Python311\\site-packages\\sklearn\\ensemble\\_weight_boosting.py:519: FutureWarning: The SAMME.R algorithm (the default) is deprecated and will be removed in 1.6. Use the SAMME algorithm to circumvent this warning.\n",
      "  warnings.warn(\n"
     ]
    }
   ],
   "source": [
    "# Just Timbral Spectral\n",
    "dataset_timbral_spectral = dataset.iloc[:, list(range(2)) + list(range(-5, 0))]\n",
    "# dataset_timbral_spectral.head(5)\n",
    "train_models(dataset_timbral_spectral)"
   ]
  },
  {
   "cell_type": "code",
   "execution_count": 8,
   "metadata": {},
   "outputs": [
    {
     "name": "stdout",
     "output_type": "stream",
     "text": [
      "\u001b[1mStandard Scaling:\n",
      "\u001b[0m\n",
      "\n",
      "Some MPEG-7 features:    min = -3.586,    max = 4.537,    mean = 0.000,    deviation = 1.000\n",
      "                      Classifier Train Accuracy Score Test Accuracy Score\n",
      "2                 SVC RBF kernel               75.52%              35.17%\n",
      "4         RandomForestClassifier              100.00%              34.48%\n",
      "7  QuadraticDiscriminantAnalysis               43.06%              31.72%\n",
      "0           KNeighborsClassifier              100.00%              30.34%\n",
      "1                            SVC               37.15%              30.34%\n",
      "3         DecisionTreeClassifier              100.00%              26.90%\n",
      "6                     GaussianNB               29.69%              26.90%\n",
      "5             AdaBoostClassifier               30.03%              26.21%\n"
     ]
    },
    {
     "name": "stderr",
     "output_type": "stream",
     "text": [
      "C:\\Users\\windo\\AppData\\Local\\Packages\\PythonSoftwareFoundation.Python.3.11_qbz5n2kfra8p0\\LocalCache\\local-packages\\Python311\\site-packages\\sklearn\\ensemble\\_weight_boosting.py:519: FutureWarning: The SAMME.R algorithm (the default) is deprecated and will be removed in 1.6. Use the SAMME algorithm to circumvent this warning.\n",
      "  warnings.warn(\n"
     ]
    }
   ],
   "source": [
    "# All Timbral\n",
    "dataset_timbral = dataset.iloc[:, list(range(2)) + list(range(-7, 0))]\n",
    "# dataset_timbral.head(5)\n",
    "train_models(dataset_timbral)"
   ]
  },
  {
   "cell_type": "code",
   "execution_count": 6,
   "metadata": {},
   "outputs": [
    {
     "name": "stdout",
     "output_type": "stream",
     "text": [
      "\u001b[1mStandard Scaling:\n",
      "\u001b[0m\n",
      "\n",
      "Some MPEG-7 features:    min = -3.586,    max = 5.392,    mean = -0.000,    deviation = 1.000\n"
     ]
    },
    {
     "name": "stderr",
     "output_type": "stream",
     "text": [
      "C:\\Users\\windo\\AppData\\Local\\Packages\\PythonSoftwareFoundation.Python.3.11_qbz5n2kfra8p0\\LocalCache\\local-packages\\Python311\\site-packages\\sklearn\\ensemble\\_weight_boosting.py:519: FutureWarning: The SAMME.R algorithm (the default) is deprecated and will be removed in 1.6. Use the SAMME algorithm to circumvent this warning.\n",
      "  warnings.warn(\n"
     ]
    },
    {
     "name": "stdout",
     "output_type": "stream",
     "text": [
      "                      Classifier Train Accuracy Score Test Accuracy Score\n",
      "2                 SVC RBF kernel               86.63%              38.62%\n",
      "4         RandomForestClassifier              100.00%              38.62%\n",
      "7  QuadraticDiscriminantAnalysis               53.12%              31.03%\n",
      "0           KNeighborsClassifier              100.00%              30.34%\n",
      "1                            SVC               43.40%              30.34%\n",
      "5             AdaBoostClassifier               29.69%              24.14%\n",
      "3         DecisionTreeClassifier              100.00%              22.76%\n",
      "6                     GaussianNB               32.47%              22.76%\n"
     ]
    }
   ],
   "source": [
    "# Basic Spectral (Without ASE) + Timbral\n",
    "train_models(dataset)"
   ]
  }
 ],
 "metadata": {
  "kernelspec": {
   "display_name": "Python 3",
   "language": "python",
   "name": "python3"
  },
  "language_info": {
   "codemirror_mode": {
    "name": "ipython",
    "version": 3
   },
   "file_extension": ".py",
   "mimetype": "text/x-python",
   "name": "python",
   "nbconvert_exporter": "python",
   "pygments_lexer": "ipython3",
   "version": "3.11.9"
  }
 },
 "nbformat": 4,
 "nbformat_minor": 2
}
