{
 "cells": [
  {
   "cell_type": "code",
   "execution_count": 1,
   "metadata": {},
   "outputs": [
    {
     "name": "stdout",
     "output_type": "stream",
     "text": [
      "t[stop], t[start]: (1.2035, 0.812)\n"
     ]
    },
    {
     "data": {
      "text/plain": [
       "array([-0.40726823,  1.86652439, -0.60767896,  1.54267458,  0.04371426])"
      ]
     },
     "execution_count": 1,
     "metadata": {},
     "output_type": "execute_result"
    }
   ],
   "source": [
    "import sys\n",
    "sys.path.append(\"..\")\n",
    "import plap\n",
    "\n",
    "# input_file = \"C:/Users/windo/Documents/ravdess-dataset/Actor_21/03-01-01-01-01-02-21.wav\"\n",
    "input_file = \"C:/Users/windo/Desktop/Inżynierka/Literatura/All_XM/v1/Matlab-XM/THESIS/03-01-01-01-01-02-10.wav\"\n",
    "# input_file = \"./audios/cerfam.wav\"\n",
    "\n",
    "preprocessor = plap.Preprocessor(\n",
    "    preemphasis_coeff=None,\n",
    "    block_size=2048,\n",
    "    overlap=66,\n",
    "    window_type=\"hamming\"\n",
    ")\n",
    "\n",
    "fvector = plap.FeatureVector(\"LAT\", \"TC\", \"ASC\", \"ASS\", \"ASF\")\n",
    "plap.new_parameterize(audio_path=input_file, fvector=fvector, preprocessor=preprocessor)\n",
    "fvector.values\n"
   ]
  },
  {
   "cell_type": "code",
   "execution_count": 2,
   "metadata": {},
   "outputs": [
    {
     "name": "stdout",
     "output_type": "stream",
     "text": [
      "t[stop], t[start]: (1.1984375, 0.8185625)\n"
     ]
    },
    {
     "data": {
      "text/plain": [
       "array([-0.42035929,  1.86655415, -0.61465243,  1.54714018,  0.04707219])"
      ]
     },
     "execution_count": 2,
     "metadata": {},
     "output_type": "execute_result"
    }
   ],
   "source": [
    "plap.parameterize(audio_path=input_file, fvector=fvector, preprocessor=preprocessor)\n",
    "fvector.values"
   ]
  }
 ],
 "metadata": {
  "kernelspec": {
   "display_name": "Python 3",
   "language": "python",
   "name": "python3"
  },
  "language_info": {
   "codemirror_mode": {
    "name": "ipython",
    "version": 3
   },
   "file_extension": ".py",
   "mimetype": "text/x-python",
   "name": "python",
   "nbconvert_exporter": "python",
   "pygments_lexer": "ipython3",
   "version": "3.11.9"
  }
 },
 "nbformat": 4,
 "nbformat_minor": 2
}
