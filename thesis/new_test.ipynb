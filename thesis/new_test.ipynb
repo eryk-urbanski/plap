{
 "cells": [
  {
   "cell_type": "code",
   "execution_count": 1,
   "metadata": {},
   "outputs": [],
   "source": [
    "import sys\n",
    "sys.path.append(\"..\")\n",
    "import plap"
   ]
  },
  {
   "cell_type": "code",
   "execution_count": 2,
   "metadata": {},
   "outputs": [],
   "source": [
    "input_files = [\"C:/Users/windo/Documents/ravdess-dataset/Actor_21/03-01-01-01-01-02-21.wav\",\n",
    "              \"C:/Users/windo/Desktop/Inżynierka/Literatura/All_XM/v1/Matlab-XM/THESIS/03-01-01-01-01-02-10.wav\",\n",
    "              \"./audios/cerfam.wav\"]"
   ]
  },
  {
   "cell_type": "code",
   "execution_count": null,
   "metadata": {},
   "outputs": [
    {
     "name": "stdout",
     "output_type": "stream",
     "text": [
      "[-1.65461286e+00  1.86758581e+00  6.99629390e-02 -2.33401279e-01\n",
      "  1.87616890e+00  2.55937254e+03  1.35937371e+03  1.79666520e-01\n",
      "  7.76347351e-01  7.01498703e-02]\n",
      "[-6.08460842e-01  1.54544573e+00  4.37253441e-02 -4.31211788e-01\n",
      "  1.86640102e+00  2.29449010e+03  1.89237141e+03  1.70815466e-01\n",
      "  8.04403306e-01  7.36785483e-02]\n",
      "[-1.35365073e+00  2.62301848e+00  1.16613872e-01 -3.78018724e-01\n",
      "  1.47566189e+00  3.20117475e+03  1.29303461e+03  1.67365047e-01\n",
      "  7.95091567e-01  9.95715885e-02]\n"
     ]
    }
   ],
   "source": [
    "\n",
    "\n",
    "preprocessor = plap.Preprocessor(\n",
    "    preemphasis_coeff=None,\n",
    "    block_size=2048,\n",
    "    overlap=66.6,\n",
    "    window_type=\"hamming\"\n",
    ")\n",
    "\n",
    "# fvector = plap.FeatureVector(\"asc\",\"ass\",\"asf\")\n",
    "# fvector = plap.FeatureVector(\"sc\",\"hsc\",\"hsd\",\"hss\",\"hsv\", \"aff\")\n",
    "fvector = plap.FeatureVector(\"asc\",\"ass\",\"asf\",\"lat\",\"tc\",\"sc\",\"hsc\",\"hsd\",\"hss\",\"hsv\")\n",
    "for input_file in input_files:\n",
    "    plap.parameterize(audio_path=input_file, fvector=fvector, preprocessor=preprocessor)\n",
    "    print(f\"{fvector.values}\")\n"
   ]
  }
 ],
 "metadata": {
  "kernelspec": {
   "display_name": "Python 3",
   "language": "python",
   "name": "python3"
  },
  "language_info": {
   "codemirror_mode": {
    "name": "ipython",
    "version": 3
   },
   "file_extension": ".py",
   "mimetype": "text/x-python",
   "name": "python",
   "nbconvert_exporter": "python",
   "pygments_lexer": "ipython3",
   "version": "3.11.9"
  }
 },
 "nbformat": 4,
 "nbformat_minor": 2
}
