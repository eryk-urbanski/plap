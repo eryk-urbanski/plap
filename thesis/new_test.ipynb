{
 "cells": [
  {
   "cell_type": "code",
   "execution_count": 1,
   "metadata": {},
   "outputs": [],
   "source": [
    "import sys\n",
    "sys.path.append(\"..\")\n",
    "import plap\n",
    "import numpy as np"
   ]
  },
  {
   "cell_type": "code",
   "execution_count": 2,
   "metadata": {},
   "outputs": [],
   "source": [
    "input_files = [\"C:/Users/windo/Documents/ravdess-dataset/Actor_21/03-01-01-01-01-02-21.wav\",\n",
    "              \"C:/Users/windo/Desktop/Inżynierka/Literatura/All_XM/v1/Matlab-XM/THESIS/03-01-01-01-01-02-10.wav\",\n",
    "              \"./audios/cerfam.wav\"]"
   ]
  },
  {
   "cell_type": "code",
   "execution_count": 3,
   "metadata": {},
   "outputs": [],
   "source": [
    "block_size = 2048\n",
    "overlap = 66.6\n",
    "step = int((100 - overlap) / 100 * block_size)\n",
    "window_type = \"hamming\""
   ]
  },
  {
   "cell_type": "code",
   "execution_count": 4,
   "metadata": {},
   "outputs": [
    {
     "name": "stdout",
     "output_type": "stream",
     "text": [
      "(88,)\n",
      "(88,)\n",
      "(88,)\n"
     ]
    }
   ],
   "source": [
    "\n",
    "\n",
    "preprocessor = plap.Preprocessor(\n",
    "    preemphasis_coeff=None,\n",
    "    block_size=block_size,\n",
    "    overlap=overlap,\n",
    "    window_type=window_type\n",
    ")\n",
    "\n",
    "# fvector = plap.FeatureVector(\"asc\",\"ass\",\"asf\")\n",
    "# fvector = plap.FeatureVector(\"sc\",\"hsc\",\"hsd\",\"hss\",\"hsv\", \"aff\")\n",
    "# fvector = plap.FeatureVector(\"ass\", \"asf\")\n",
    "# fvector = plap.FeatureVector(\"tc\",\"asb\",\"asb_mean\",\"asp\",\"asp_mean\",\"sc\")\n",
    "# fvector = plap.FeatureVector(\"asc\",\"asc_var\",\"ass\",\"ass_var\",\"asf\",\"asf_mean\",\"lat\",\"tc\",\"sc\",\"sc_var\",\"hsc\",\"hsd\",\"hss\",\"hsv\")\n",
    "\n",
    "# newest with ASB, ASP and variance across ASF\n",
    "# fvector = plap.FeatureVector(\"asc\",\"asc_var\",\"ass\",\"ass_var\",\"asf\",\"asf_mean\",\"asf_var\",\"asf_var_mean\",\"lat\",\"tc\",\"sc\",\"sc_var\",\"hsc\",\"hsd\",\"hss\",\"hsv\",\"asb\",\"asb_mean\",\"asp\",\"asp_mean\")\n",
    "fvector = plap.FeatureVector(\"asf_var\",\"asf_var_mean\",\"asb\",\"asb_mean\",\"asp\",\"asp_mean\",\"mfcc\")\n",
    "for input_file in input_files:\n",
    "    plap.parameterize(audio_path=input_file, fvector=fvector, preprocessor=preprocessor)\n",
    "    # print(f\"{fvector.values}\")\n",
    "    print(f\"{fvector.values.shape}\")\n",
    "    # print(f\"{np.mean(fvector.values)}\")\n"
   ]
  },
  {
   "cell_type": "code",
   "execution_count": 5,
   "metadata": {},
   "outputs": [],
   "source": [
    "# import librosa\n",
    "# import numpy as np\n",
    "# import matplotlib.pyplot as plt\n",
    "\n",
    "# y, sr = librosa.load(input_files[0], sr=None)\n",
    "# # C = np.abs(librosa.cqt(y, sr=sr, hop_length=step, fmin=62.5, window=window_type))\n",
    "# # C.shape\n",
    "\n",
    "# # fig, ax = plt.subplots()\n",
    "# # img = librosa.display.specshow(librosa.amplitude_to_db(C, ref=np.max),\n",
    "# #                                sr=sr, x_axis='time', y_axis='cqt_hz', ax=ax, fmin=62.5)\n",
    "# # ax.set_title('Constant-Q power spectrum')\n",
    "# # fig.colorbar(img, ax=ax, format=\"%+2.0f dB\")\n",
    "\n",
    "# stft = librosa.stft(y=y, n_fft=block_size, hop_length=step, window=window_type)\n",
    "# power_spectrum = np.abs(stft) ** 2\n",
    "# power_spectrum.T.shape"
   ]
  },
  {
   "cell_type": "markdown",
   "metadata": {},
   "source": [
    "# Vis\n"
   ]
  },
  {
   "cell_type": "code",
   "execution_count": null,
   "metadata": {},
   "outputs": [],
   "source": [
    "import sys\n",
    "sys.path.append(\"..\")\n",
    "import plap\n",
    "import numpy as np"
   ]
  },
  {
   "cell_type": "code",
   "execution_count": null,
   "metadata": {},
   "outputs": [],
   "source": [
    "input_file = \"C:/Users/windo/Documents/ravdess-dataset/Actor_21/03-01-01-01-01-02-21.wav\""
   ]
  }
 ],
 "metadata": {
  "kernelspec": {
   "display_name": "Python 3",
   "language": "python",
   "name": "python3"
  },
  "language_info": {
   "codemirror_mode": {
    "name": "ipython",
    "version": 3
   },
   "file_extension": ".py",
   "mimetype": "text/x-python",
   "name": "python",
   "nbconvert_exporter": "python",
   "pygments_lexer": "ipython3",
   "version": "3.11.9"
  }
 },
 "nbformat": 4,
 "nbformat_minor": 2
}
