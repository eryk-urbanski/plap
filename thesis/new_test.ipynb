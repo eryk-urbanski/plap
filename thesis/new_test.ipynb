{
 "cells": [
  {
   "cell_type": "code",
   "execution_count": 1,
   "metadata": {},
   "outputs": [],
   "source": [
    "import sys\n",
    "sys.path.append(\"..\")\n",
    "import plap"
   ]
  },
  {
   "cell_type": "code",
   "execution_count": 2,
   "metadata": {},
   "outputs": [
    {
     "name": "stdout",
     "output_type": "stream",
     "text": [
      "[-1.64797865e+00  1.86320741e+00  6.98905125e-02 -2.15382707e-01\n",
      "  1.87364981e+00  2.55747918e+03  1.34862252e+03  1.81247348e-01\n",
      "  7.76505107e-01  7.56645056e-02]\n",
      "[-6.07678955e-01  1.54267458e+00  4.37142629e-02 -4.07268234e-01\n",
      "  1.86652439e+00  2.29226682e+03  1.88030627e+03  1.70863232e-01\n",
      "  8.03943699e-01  7.16799135e-02]\n",
      "[-1.35191951e+00  2.61810088e+00  1.16834149e-01 -5.46556845e-01\n",
      "  1.46666641e+00  3.20176202e+03  1.31559069e+03  1.68608917e-01\n",
      "  7.95864762e-01  7.16002299e-02]\n"
     ]
    }
   ],
   "source": [
    "input_files = [\"C:/Users/windo/Documents/ravdess-dataset/Actor_21/03-01-01-01-01-02-21.wav\",\n",
    "              \"C:/Users/windo/Desktop/Inżynierka/Literatura/All_XM/v1/Matlab-XM/THESIS/03-01-01-01-01-02-10.wav\",\n",
    "              \"./audios/cerfam.wav\"]\n",
    "\n",
    "preprocessor = plap.Preprocessor(\n",
    "    preemphasis_coeff=None,\n",
    "    block_size=2048,\n",
    "    overlap=66,\n",
    "    window_type=\"hamming\"\n",
    ")\n",
    "\n",
    "fvector = plap.FeatureVector(\"asc\",\"ass\",\"asf\",\"lat\",\"tc\",\"sc\",\"hsc\",\"hsd\",\"hss\",\"hsv\")\n",
    "for input_file in input_files:\n",
    "    plap.parameterize(audio_path=input_file, fvector=fvector, preprocessor=preprocessor)\n",
    "    print(f\"{fvector.values}\")\n"
   ]
  }
 ],
 "metadata": {
  "kernelspec": {
   "display_name": "Python 3",
   "language": "python",
   "name": "python3"
  },
  "language_info": {
   "codemirror_mode": {
    "name": "ipython",
    "version": 3
   },
   "file_extension": ".py",
   "mimetype": "text/x-python",
   "name": "python",
   "nbconvert_exporter": "python",
   "pygments_lexer": "ipython3",
   "version": "3.11.9"
  }
 },
 "nbformat": 4,
 "nbformat_minor": 2
}
