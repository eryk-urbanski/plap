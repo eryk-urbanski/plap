{
 "cells": [
  {
   "cell_type": "code",
   "execution_count": 1,
   "metadata": {},
   "outputs": [],
   "source": [
    "import sys\n",
    "sys.path.append(\"..\")"
   ]
  },
  {
   "cell_type": "code",
   "execution_count": 2,
   "metadata": {},
   "outputs": [
    {
     "name": "stdout",
     "output_type": "stream",
     "text": [
      "sc calculation time: 1.7561790943145752\n",
      "lat calculation time: 1.1220345497131348\n",
      "tc calculation time: 1.0970029830932617\n",
      "aff calculation time: 1.3845810890197754\n",
      "asc calculation time: 0.01199650764465332\n",
      "ass calculation time: 0.013001203536987305\n",
      "asf calculation time: 0.0060079097747802734\n",
      "hsc calculation time: 0.5229902267456055\n",
      "hsd calculation time: 0.0\n",
      "hss calculation time: 0.0\n",
      "hsv calculation time: 0.0\n"
     ]
    },
    {
     "data": {
      "text/plain": [
       "array([ 7.75912380e+03, -4.19217533e-01,  1.81325829e+00,  5.04563301e+02,\n",
       "        4.94081703e-01,  1.72344871e+00,  1.41282289e-01,  4.37958546e+03,\n",
       "        2.80611668e-01,  8.17690021e-01,  1.33326877e-01])"
      ]
     },
     "execution_count": 2,
     "metadata": {},
     "output_type": "execute_result"
    }
   ],
   "source": [
    "import os\n",
    "import numpy as np\n",
    "import plap\n",
    "\n",
    "input_file = \"C:/Users/windo/Desktop/Inżynierka/Literatura/All_XM/v1/Matlab-XM/THESIS/03-01-01-01-01-02-10.wav\"\n",
    "# input_file = \"C:/Users/windo/Documents/ravdess-dataset/Actor_21/03-01-01-01-01-02-21.wav\"\n",
    "\n",
    "preprocessor = plap.Preprocessor(window_type=\"hamming\")\n",
    "# fvector = plap.FeatureVector(\"HSC\", \"HSD\", \"HSS\", \"HSV\")\n",
    "# fvector = plap.FeatureVector(\"ASC\",\"ASS\",\"ASF\",\"LAT\",\"TC\",\"SC\",\"HSC\",\"HSD\",\"HSS\",\"HSV\")\n",
    "# fvector = plap.FeatureVector(\"HSD\")\n",
    "# fvector = plap.FeatureVector(\"AFF\", \"ASC\", \"ASS\", \"ASF\")\n",
    "fvector = plap.FeatureVector(\"sc\",\"lat\",\"tc\",\"aff\",\"asc\",\"ass\",\"asf\",\"hsc\",\"hsd\",\"hss\",\"hsv\")\n",
    "# fvector = plap.FeatureVector(\"SC\", \"LAT\", \"TC\")\n",
    "plap.parameterize(audio_path=input_file, fvector=fvector, preprocessor=preprocessor)\n",
    "fvector.values # Both the HSC-HSS pair and the HSV are higher than they should be, so something is wrong even before _ihsc_ihss(), HSD is somehow closer"
   ]
  },
  {
   "cell_type": "code",
   "execution_count": 3,
   "metadata": {},
   "outputs": [
    {
     "data": {
      "text/plain": [
       "(11,)"
      ]
     },
     "execution_count": 3,
     "metadata": {},
     "output_type": "execute_result"
    }
   ],
   "source": [
    "fvector.values.shape"
   ]
  }
 ],
 "metadata": {
  "kernelspec": {
   "display_name": "Python 3",
   "language": "python",
   "name": "python3"
  },
  "language_info": {
   "codemirror_mode": {
    "name": "ipython",
    "version": 3
   },
   "file_extension": ".py",
   "mimetype": "text/x-python",
   "name": "python",
   "nbconvert_exporter": "python",
   "pygments_lexer": "ipython3",
   "version": "3.11.9"
  }
 },
 "nbformat": 4,
 "nbformat_minor": 2
}
